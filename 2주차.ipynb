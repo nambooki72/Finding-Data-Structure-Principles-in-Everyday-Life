{
 "cells": [
  {
   "cell_type": "code",
   "execution_count": 1,
   "id": "43a1532c-5353-40f2-8036-20d3aac2e49b",
   "metadata": {},
   "outputs": [
    {
     "name": "stdout",
     "output_type": "stream",
     "text": [
      "[10, 20, 30]\n"
     ]
    }
   ],
   "source": [
    "book=[10,20,30]\n",
    "print(book)"
   ]
  },
  {
   "cell_type": "code",
   "execution_count": 2,
   "id": "7926a7e9-8e87-42e6-86af-5d7c82838c79",
   "metadata": {},
   "outputs": [
    {
     "name": "stdout",
     "output_type": "stream",
     "text": [
      "30\n"
     ]
    }
   ],
   "source": [
    "print(book[2])"
   ]
  },
  {
   "cell_type": "code",
   "execution_count": 3,
   "id": "66741936-03b9-4973-a85d-64959b624679",
   "metadata": {
    "scrolled": true
   },
   "outputs": [
    {
     "name": "stdout",
     "output_type": "stream",
     "text": [
      "[20, 30]\n",
      "[40, 20, 30]\n"
     ]
    }
   ],
   "source": [
    "del book[0]\n",
    "print(book)\n",
    "book.insert(0,40)\n",
    "print(book)"
   ]
  },
  {
   "cell_type": "code",
   "execution_count": 4,
   "id": "8c48f22f-c392-4b5c-87ce-a299526f90b3",
   "metadata": {},
   "outputs": [
    {
     "name": "stdout",
     "output_type": "stream",
     "text": [
      "40\n"
     ]
    }
   ],
   "source": [
    "print(book[0])"
   ]
  },
  {
   "cell_type": "code",
   "execution_count": 5,
   "id": "c9821c47-ad62-4477-bc6e-720b27743791",
   "metadata": {},
   "outputs": [
    {
     "name": "stdout",
     "output_type": "stream",
     "text": [
      "[1, 2, 3, 4, 5]\n",
      "[-1, 1, 2, 3, 4, 5]\n",
      "[1, 2, 3, 4, 5]\n",
      "[1, 2, 3, 4, 10, 5]\n"
     ]
    }
   ],
   "source": [
    "numbers=[1,2,3,4,5]\n",
    "print(numbers)\n",
    "numbers.insert(0,-1)\n",
    "print(numbers)\n",
    "numbers.pop(0)\n",
    "print(numbers)\n",
    "numbers.insert(4,10)\n",
    "print(numbers)"
   ]
  },
  {
   "cell_type": "code",
   "execution_count": 6,
   "id": "ffb2b0b9-2823-48d5-9b9a-972a0973a094",
   "metadata": {},
   "outputs": [
    {
     "name": "stdout",
     "output_type": "stream",
     "text": [
      "[10, 12, 23, -4, 0]\n",
      "['Hello']\n",
      "['h', 'e', 'l', 'l', 'o']\n",
      "[0, 'a', 'high', -0.9]\n"
     ]
    }
   ],
   "source": [
    "intList=[10, 12, 23, -4, 0]\n",
    "strList=[\"Hello\"]\n",
    "charList=['h','e','l','l','o']\n",
    "myList=[0,'a', 'high', -0.9]\n",
    "print(intList)\n",
    "print(strList)\n",
    "print(charList)\n",
    "print(myList)"
   ]
  },
  {
   "cell_type": "code",
   "execution_count": 7,
   "id": "85aedf86-e70b-45be-98e0-a42791a05b9d",
   "metadata": {},
   "outputs": [
    {
     "name": "stdout",
     "output_type": "stream",
     "text": [
      "['Hello']\n",
      "['Hello', 'world']\n",
      "['Hello', 'world', '!']\n"
     ]
    }
   ],
   "source": [
    "strList=[\"Hello\"]\n",
    "print(strList)\n",
    "strList.append(\"world\")\n",
    "print(strList)\n",
    "strList.append(\"!\")\n",
    "print(strList)"
   ]
  },
  {
   "cell_type": "code",
   "execution_count": 13,
   "id": "94da7ce3-0e99-4dbb-b2ba-0ca80c9c0449",
   "metadata": {},
   "outputs": [],
   "source": [
    "class BucketList:\n",
    "    def __init__(self):  # 생성자\n",
    "        self.list = []    # 빈 리스트로 생성함\n",
    "        \n",
    "    def showList(self):  # 리스트의 내용을 반복문으로 출력함\n",
    "        print(\" 현재 버킷리스트입니다\")\n",
    "        for i in range(len(self.list)):\n",
    "            print(i+1, \":\", self.list[i]) # 인덱스 1부터 시작\n",
    "            \n",
    "    def add(self, str):  # 리스트의 끝지점에 항목 추가\n",
    "        self.list.append(str)\n",
    "        \n",
    "    def delete(self, n):\n",
    "        self.list.pop(n-1) # 해당 번호의 항목을 삭제\n",
    "    def insert(self, n, str):\n",
    "        self.list.insert(n-1,str) #특정 번호(순서)에 원소 추가\n",
    "    def find(self,n):\n",
    "        print(n, '번째 :',self.list[n-1]) #특정 번호의 원소 출력"
   ]
  },
  {
   "cell_type": "code",
   "execution_count": 15,
   "id": "f7e82edc-12cc-4961-bc5d-ad1222e0634d",
   "metadata": {},
   "outputs": [
    {
     "name": "stdout",
     "output_type": "stream",
     "text": [
      " 현재 버킷리스트입니다\n",
      "1 : 운동하기\n",
      "2 : 제주 여행\n",
      "3 : 파이썬 배우기\n",
      "4 : 친구 연락하기\n",
      " 현재 버킷리스트입니다\n",
      "1 : 운동하기\n",
      "2 : 제주 여행\n",
      "3 : 친구 연락하기\n",
      "2 번째 : 가방 정리\n",
      " 현재 버킷리스트입니다\n",
      "1 : 운동하기\n",
      "2 : 가방 정리\n",
      "3 : 제주 여행\n",
      "4 : 친구 연락하기\n",
      " 현재 버킷리스트입니다\n",
      "1 : 운동하기\n",
      "2 : 가방 정리\n",
      "3 : 제주 여행\n",
      "4 : 친구 연락하기\n",
      "5 : 등산\n"
     ]
    }
   ],
   "source": [
    "myList = BucketList() #나의 버킷리스트 myList 생성\n",
    "\n",
    "#버킷리스트 항목 추가\n",
    "myList.add('운동하기')\n",
    "myList.add('제주 여행')\n",
    "myList.add('파이썬 배우기')\n",
    "myList.add('친구 연락하기')\n",
    "\n",
    "myList.showList() #버킷리스트 출력\n",
    "myList.delete(3) #3번째 항목 삭제\n",
    "myList.showList()\n",
    "myList.insert(2, '가방 정리') #2번째에 추가\n",
    "myList.find(2)\n",
    "myList.showList()\n",
    "myList.add('등산')\n",
    "myList.showList()"
   ]
  },
  {
   "cell_type": "code",
   "execution_count": null,
   "id": "114deb17-db68-4c22-b790-1e0b53134162",
   "metadata": {},
   "outputs": [],
   "source": []
  }
 ],
 "metadata": {
  "kernelspec": {
   "display_name": "Python [conda env:base] *",
   "language": "python",
   "name": "conda-base-py"
  },
  "language_info": {
   "codemirror_mode": {
    "name": "ipython",
    "version": 3
   },
   "file_extension": ".py",
   "mimetype": "text/x-python",
   "name": "python",
   "nbconvert_exporter": "python",
   "pygments_lexer": "ipython3",
   "version": "3.12.7"
  }
 },
 "nbformat": 4,
 "nbformat_minor": 5
}
