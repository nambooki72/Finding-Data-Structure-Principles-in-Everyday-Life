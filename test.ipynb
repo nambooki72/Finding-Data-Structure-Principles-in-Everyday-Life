{
 "cells": [
  {
   "cell_type": "markdown",
   "id": "e54b6f45-13ba-4f0e-9baf-c8f6addb463d",
   "metadata": {},
   "source": [
    "### 변수와 출력문"
   ]
  },
  {
   "cell_type": "code",
   "execution_count": 2,
   "id": "10faef29-0d0f-44cd-b018-867513b4d221",
   "metadata": {},
   "outputs": [],
   "source": [
    "num=10"
   ]
  },
  {
   "cell_type": "code",
   "execution_count": 4,
   "id": "57d8134d-59c5-4e4a-bc38-b109d533a8a5",
   "metadata": {},
   "outputs": [
    {
     "name": "stdout",
     "output_type": "stream",
     "text": [
      "10\n"
     ]
    }
   ],
   "source": [
    "print(num)"
   ]
  },
  {
   "cell_type": "code",
   "execution_count": 7,
   "id": "cba15a50-c15c-4891-b0c1-a9cdda7cf55b",
   "metadata": {},
   "outputs": [],
   "source": [
    "num1=20"
   ]
  },
  {
   "cell_type": "code",
   "execution_count": 9,
   "id": "c1cca47b-a325-4304-a7aa-1efbe28375b5",
   "metadata": {},
   "outputs": [
    {
     "name": "stdout",
     "output_type": "stream",
     "text": [
      "20\n"
     ]
    }
   ],
   "source": [
    "print(num1)"
   ]
  },
  {
   "cell_type": "code",
   "execution_count": 11,
   "id": "45d88d44-0809-4a40-b7ef-00c8906766d7",
   "metadata": {},
   "outputs": [],
   "source": [
    "a=100\n",
    "b=20\n",
    "c= a + b"
   ]
  },
  {
   "cell_type": "code",
   "execution_count": 13,
   "id": "07b33bc9-1038-44c2-8324-ed77242646db",
   "metadata": {},
   "outputs": [
    {
     "name": "stdout",
     "output_type": "stream",
     "text": [
      "120\n"
     ]
    }
   ],
   "source": [
    "print(c)"
   ]
  },
  {
   "cell_type": "code",
   "execution_count": 15,
   "id": "f78e3445-1171-49bb-83a4-9e54b7a2fab5",
   "metadata": {},
   "outputs": [
    {
     "name": "stdout",
     "output_type": "stream",
     "text": [
      "1\n",
      "2\n",
      "3\n"
     ]
    }
   ],
   "source": [
    "for i in [1,2,3]:\n",
    "    print(i)"
   ]
  },
  {
   "cell_type": "code",
   "execution_count": 17,
   "id": "2ebe4944-22ed-4bcd-a780-fb08f1d37cc8",
   "metadata": {},
   "outputs": [
    {
     "name": "stdout",
     "output_type": "stream",
     "text": [
      "1\n",
      "2\n",
      "6\n"
     ]
    }
   ],
   "source": [
    "a=1\n",
    "for i in [1,2,3]:\n",
    "    a=a*i\n",
    "    print(a)"
   ]
  },
  {
   "cell_type": "code",
   "execution_count": 19,
   "id": "d7589762-00dd-4f9f-baa4-108ff6da9650",
   "metadata": {},
   "outputs": [
    {
     "ename": "IndentationError",
     "evalue": "expected an indented block after 'for' statement on line 2 (150686761.py, line 4)",
     "output_type": "error",
     "traceback": [
      "\u001b[1;36m  Cell \u001b[1;32mIn[19], line 4\u001b[1;36m\u001b[0m\n\u001b[1;33m    a=a*i\u001b[0m\n\u001b[1;37m    ^\u001b[0m\n\u001b[1;31mIndentationError\u001b[0m\u001b[1;31m:\u001b[0m expected an indented block after 'for' statement on line 2\n"
     ]
    }
   ],
   "source": [
    "a=10\n",
    "for i in [1,2,3]:\n",
    "\n",
    "a=a*i\n",
    "    print(a)"
   ]
  },
  {
   "cell_type": "code",
   "execution_count": 21,
   "id": "ca7db14b-6eb9-4373-9aca-f67ea8c30a1e",
   "metadata": {},
   "outputs": [
    {
     "name": "stdout",
     "output_type": "stream",
     "text": [
      "0\n",
      "1\n",
      "2\n",
      "3\n",
      "4\n"
     ]
    }
   ],
   "source": [
    "for i in range(5): \n",
    "    print(i)"
   ]
  },
  {
   "cell_type": "code",
   "execution_count": 23,
   "id": "2a1d4936-3814-41d6-8f85-c8524ae52bb0",
   "metadata": {},
   "outputs": [
    {
     "name": "stdout",
     "output_type": "stream",
     "text": [
      "0\n",
      "sum :  0\n",
      "1\n",
      "sum :  1\n",
      "2\n",
      "sum :  3\n",
      "3\n",
      "sum :  6\n",
      "4\n",
      "sum :  10\n"
     ]
    }
   ],
   "source": [
    "sum=0\n",
    "for i in range(5):\n",
    "    print(i)\n",
    "    sum = sum + i\n",
    "    print(\"sum : \", sum)"
   ]
  },
  {
   "cell_type": "code",
   "execution_count": 25,
   "id": "ec0687a8-b077-4961-a2c5-85989c1cd911",
   "metadata": {},
   "outputs": [
    {
     "name": "stdout",
     "output_type": "stream",
     "text": [
      "0\n",
      "1\n",
      "2\n",
      "3\n",
      "4\n",
      "sum :  10\n"
     ]
    }
   ],
   "source": [
    "sum=0\n",
    "for i in range(5):\n",
    "    print(i)\n",
    "    sum = sum + i\n",
    "print(\"sum : \", sum)"
   ]
  },
  {
   "cell_type": "code",
   "execution_count": 27,
   "id": "de05c57e-d52a-46dc-ba4a-121b647ee298",
   "metadata": {},
   "outputs": [
    {
     "name": "stdout",
     "output_type": "stream",
     "text": [
      "1\n",
      "2\n",
      "3\n",
      "4\n",
      "5\n",
      "6\n",
      "7\n",
      "8\n",
      "9\n",
      "10\n",
      "sum :  55\n"
     ]
    }
   ],
   "source": [
    "sum=0\n",
    "for i in range(1,11):\n",
    "    print(i)\n",
    "    sum = sum + i\n",
    "print(\"sum : \", sum)"
   ]
  },
  {
   "cell_type": "code",
   "execution_count": 29,
   "id": "f05e709d-555e-4fc4-aef8-b9e200a023ce",
   "metadata": {},
   "outputs": [
    {
     "name": "stdout",
     "output_type": "stream",
     "text": [
      "h\n",
      "o\n",
      "m\n",
      "e\n"
     ]
    }
   ],
   "source": [
    "for i in \"home\":\n",
    "    print(i)"
   ]
  },
  {
   "cell_type": "code",
   "execution_count": 31,
   "id": "f7ceb010-b898-4219-aa59-c74cbd7ac38b",
   "metadata": {},
   "outputs": [
    {
     "name": "stdout",
     "output_type": "stream",
     "text": [
      "{\n",
      "{\n",
      "3\n",
      "+\n",
      "4\n",
      "/\n",
      "5\n",
      "+\n",
      "1\n",
      "0\n",
      "}\n"
     ]
    }
   ],
   "source": [
    "str = \"{{3+4/5+10}\"\n",
    "for i in str:\n",
    "    print(i)"
   ]
  },
  {
   "cell_type": "code",
   "execution_count": null,
   "id": "2c2331f6-764d-470e-9dd9-2d7c24facf7a",
   "metadata": {},
   "outputs": [],
   "source": []
  }
 ],
 "metadata": {
  "kernelspec": {
   "display_name": "Python [conda env:base] *",
   "language": "python",
   "name": "conda-base-py"
  },
  "language_info": {
   "codemirror_mode": {
    "name": "ipython",
    "version": 3
   },
   "file_extension": ".py",
   "mimetype": "text/x-python",
   "name": "python",
   "nbconvert_exporter": "python",
   "pygments_lexer": "ipython3",
   "version": "3.12.7"
  }
 },
 "nbformat": 4,
 "nbformat_minor": 5
}
