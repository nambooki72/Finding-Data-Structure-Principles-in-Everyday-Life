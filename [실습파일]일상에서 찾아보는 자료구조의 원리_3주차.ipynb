{
 "cells": [
  {
   "cell_type": "markdown",
   "id": "5aa8dc80",
   "metadata": {},
   "source": [
    "## 스택 클래스"
   ]
  },
  {
   "cell_type": "code",
   "execution_count": 1,
   "id": "2b6a4299",
   "metadata": {},
   "outputs": [],
   "source": [
    "class Stack :\n",
    "    def __init__( self ):   \n",
    "        self.s_list = [] #스택 저장 공간을 빈 리스트로 생성한다.    \n",
    "            \n",
    "    def push(self, data) :  #push는 삽입할 자료(값)를 필요로 한다.\n",
    "        self.s_list.append(data)\n",
    "    def pop(self) :\n",
    "          if not self.isEmpty() : #빈 상태가 아니라면\n",
    "                return self.s_list.pop() #가장 마지막에 삽입된 자료(값)을 반환하여 삭제한다.\n",
    "    def isEmpty(self) :\n",
    "          return len(self.s_list) == 0  #s.list의 길이가 0이면 빈 상태를 의미한다.\n",
    "    def size(self) :\n",
    "          return len(self.s_list)\n",
    "    def clear(self) :\n",
    "          self.s_list = []"
   ]
  },
  {
   "cell_type": "code",
   "execution_count": 2,
   "id": "3fb557ce",
   "metadata": {},
   "outputs": [
    {
     "name": "stdout",
     "output_type": "stream",
     "text": [
      "12\n",
      "11\n",
      "10\n"
     ]
    }
   ],
   "source": [
    "#스택 클래스 객체 생성\n",
    "stack=Stack()\n",
    "\n",
    "#push 실행\n",
    "stack.push(9)\n",
    "stack.push(10)\n",
    "stack.push(11)\n",
    "stack.push(12)\n",
    "#pop 실행\n",
    "print(stack.pop())\n",
    "print(stack.pop())\n",
    "print(stack.pop())"
   ]
  },
  {
   "cell_type": "code",
   "execution_count": 3,
   "id": "c7653617",
   "metadata": {},
   "outputs": [
    {
     "data": {
      "text/plain": [
       "False"
      ]
     },
     "execution_count": 3,
     "metadata": {},
     "output_type": "execute_result"
    }
   ],
   "source": [
    "stack.isEmpty()"
   ]
  },
  {
   "cell_type": "code",
   "execution_count": null,
   "id": "72fb1a9e",
   "metadata": {},
   "outputs": [],
   "source": [
    "# 스택 클래스\n",
    "\n",
    "class Stack :\n",
    "    def __init__( self ):   \n",
    "        self.s_list = [] #스택 저장 공간을 빈 리스트로 생성한다.    \n",
    "            \n",
    "    def push(self, data) :  #push는 삽입할 자료(값)를 필요로 한다.\n",
    "        self.s_list.append(data)\n",
    "    def pop(self) :\n",
    "          if not self.isEmpty() : #빈 상태가 아니라면\n",
    "                return self.s_list.pop() #가장 마지막에 삽입된 자료(값)을 반환하여 삭제한다.\n",
    "    def isEmpty(self) :\n",
    "          return len(self.s_list) == 0  #s.list의 길이가 0이면 빈 상태를 의미한다.\n",
    "    def size(self) :\n",
    "          return len(self.s_list)\n",
    "    def clear(self) :\n",
    "          self.s_list = []"
   ]
  },
  {
   "cell_type": "markdown",
   "id": "78815ea1",
   "metadata": {},
   "source": [
    "## 회문 검사하기"
   ]
  },
  {
   "cell_type": "code",
   "execution_count": 5,
   "id": "63f8033b",
   "metadata": {},
   "outputs": [
    {
     "name": "stdin",
     "output_type": "stream",
     "text": [
      "문자열 입력: 토마토입니다\n"
     ]
    },
    {
     "name": "stdout",
     "output_type": "stream",
     "text": [
      "회문이 아님\n"
     ]
    }
   ],
   "source": [
    "stack = Stack()\n",
    "instr = input(\"문자열 입력:\")\n",
    "for ch in instr:\n",
    "    stack.push(ch)\n",
    "for ch in instr:\n",
    "    if ch != stack.pop() :\n",
    "        print(\"회문이 아님\")\n",
    "        break\n",
    "if stack.isEmpty():\n",
    "    print(\"회문이 맞음\")"
   ]
  },
  {
   "cell_type": "code",
   "execution_count": null,
   "id": "51de1846-dfea-44e7-97f3-f995d4dabcbe",
   "metadata": {},
   "outputs": [],
   "source": []
  },
  {
   "cell_type": "markdown",
   "id": "4b2eba10",
   "metadata": {},
   "source": [
    "### 십진수를 이진수로 변환하기"
   ]
  },
  {
   "cell_type": "code",
   "execution_count": 6,
   "id": "024625cf",
   "metadata": {},
   "outputs": [],
   "source": [
    "def decimaltobinary(num):\n",
    "    \n",
    "    s = Stack()\n",
    "    while num > 0:\n",
    "        s.push(num % 2)\n",
    "        num = num // 2\n",
    "    while not s.isEmpty():\n",
    "        print(s.pop(),end='')"
   ]
  },
  {
   "cell_type": "code",
   "execution_count": 7,
   "id": "65a6aa90",
   "metadata": {},
   "outputs": [
    {
     "name": "stdout",
     "output_type": "stream",
     "text": [
      "11110\n",
      "11001\n",
      "11111001000"
     ]
    }
   ],
   "source": [
    "decimaltobinary(30)\n",
    "print()\n",
    "decimaltobinary(25)\n",
    "print()\n",
    "decimaltobinary(1992)"
   ]
  },
  {
   "cell_type": "code",
   "execution_count": null,
   "id": "b0694d3f-4813-41d3-9112-93e4c74c2254",
   "metadata": {},
   "outputs": [],
   "source": []
  },
  {
   "cell_type": "markdown",
   "id": "010914bb",
   "metadata": {},
   "source": [
    "## 수식의 괄호 검사하기"
   ]
  },
  {
   "cell_type": "code",
   "execution_count": 8,
   "id": "374aff08",
   "metadata": {},
   "outputs": [],
   "source": [
    "def checkBrackets(statement):\n",
    "    stack = Stack()\n",
    "    for ch in statement:   #수식 문자열에서 한 문자씩 읽는다.\n",
    "        if ch in ('{', '[', '('):#문자가 왼쪽 괄호이면  push\n",
    "            stack.push(ch)\n",
    "        elif ch in ('}', ']', ')'):#문자가 오른쪽 괄호이면\n",
    "            if stack.isEmpty() :    #스택이 비었는지 검사\n",
    "                return \"오른쪽 괄호가 많음\"   \n",
    "            else :\n",
    "                left = stack.pop()  #스택이 비어있지 않다면 pop\n",
    "                if (ch == '}' and left != '{') or \\\n",
    "                   (ch == ']' and left != '[') or \\\n",
    "                   (ch == ')' and left != '(') :\n",
    "                    return \"괄호의 쌍이 맞지 않음\" \n",
    "\n",
    "    if stack.isEmpty() :\n",
    "             return \"오류 없음\"\n",
    "    else : return \"왼쪽 괄호가 많음\" \n"
   ]
  },
  {
   "cell_type": "code",
   "execution_count": 9,
   "id": "03e0089e",
   "metadata": {},
   "outputs": [
    {
     "data": {
      "text/plain": [
       "'괄호의 쌍이 맞지 않음'"
      ]
     },
     "execution_count": 9,
     "metadata": {},
     "output_type": "execute_result"
    }
   ],
   "source": [
    "str = \"3.14*6[(i+1])]= 0;\"\n",
    "checkBrackets(str)"
   ]
  },
  {
   "cell_type": "code",
   "execution_count": null,
   "id": "5d578629",
   "metadata": {},
   "outputs": [],
   "source": [
    "str = ( \"{A[(i+1)] = 0;}\", \"if((i==0) && (j==0\", \"A[(i+1] ) = 0;\" )\n",
    "for s in str:\n",
    "    result = checkBrackets(s)\n",
    "    print('수식 {st:22} : {r}'.format(st=s, r = result))"
   ]
  },
  {
   "cell_type": "markdown",
   "id": "17b6afb4",
   "metadata": {},
   "source": [
    "## 스택을 이용한 미로 탈출 - 깊이 우선 탐색"
   ]
  },
  {
   "cell_type": "code",
   "execution_count": 10,
   "id": "d68b5e2b",
   "metadata": {},
   "outputs": [],
   "source": [
    "# 스택 클래스\n",
    "\n",
    "class Stack :\n",
    "    def __init__( self ):   \n",
    "        self.s_list = [] #스택 저장 공간을 빈 리스트로 생성한다.    \n",
    "            \n",
    "    def push(self, data) :  #push는 삽입할 자료(값)를 필요로 한다.\n",
    "        self.s_list.append(data)\n",
    "    def pop(self) :\n",
    "          if not self.isEmpty() : #빈 상태가 아니라면\n",
    "                return self.s_list.pop() #가장 마지막에 삽입된 자료(값)을 반환하여 삭제한다.\n",
    "    def isEmpty(self) :\n",
    "          return len(self.s_list) == 0  #s.list의 길이가 0이면 빈 상태를 의미한다.\n",
    "    def size(self) :\n",
    "          return len(self.s_list)\n",
    "    def clear(self) :\n",
    "          self.s_list = []"
   ]
  },
  {
   "cell_type": "code",
   "execution_count": null,
   "id": "627c1cd4",
   "metadata": {},
   "outputs": [],
   "source": [
    "def DFS(start, maze):\n",
    "    stack = Stack()  # 스택 객체\n",
    "    stack.push(start) # 출발 위치 삽입 \n",
    "    # 네 방향 (상, 하, 좌, 우)\n",
    "    directions = [(0, -1), (0, 1), (-1, 0), (1, 0)]\n",
    "    print(\"출발\", start)\n",
    "    \n",
    "    while not stack.isEmpty():  # 스택이 빌 때까지 반복\n",
    "        position = stack.pop()  # pop 현재 위치 확인\n",
    "        print(\"현재 위치\", position, end=' -> ')\n",
    "        x, y = position\n",
    "        \n",
    "        if maze[y][x] == 'x':  # 현재 위치가 도착점이면 \n",
    "            return \"탈출 성공\"\n",
    "        \n",
    "        maze[y][x] = '*'  # 방문 여부를 표시\n",
    "        for direction in directions:  # 네 방향으로 이동 가능 지점 확인\n",
    "            next_x, next_y = x + direction[0], y + direction[1]\n",
    "            if (0 <= next_x < len(maze[0])) and (0 <= next_y < len(maze)) \\\n",
    "                       and maze[next_y][next_x] in ['0', 'x']:\n",
    "                stack.push((next_x, next_y))  # 이동할 수 있는 지점이면 push\n",
    "                \n",
    "        # 스택 출력해 보기\n",
    "        print(\"스택\", stack.s_list)\n",
    "        # 미로 출력해 보기\n",
    "        for row in maze:\n",
    "            for cell in row:\n",
    "                print(cell, end=' ')\n",
    "            print()\n",
    "        print()\n",
    "       \n",
    "    return \"탈출 실패\"\n",
    "\n",
    "\n",
    "# 미로 설정 (0: 경로, 1: 벽, x: 도착점)\n",
    "maze = [\n",
    "    ['1', '0', '1', '1', '0'],\n",
    "    ['0', '0', '0', '0', '0'],\n",
    "    ['1', '0', '1', '1','1'],\n",
    "    ['1', '0', '0', '0', 'x'],\n",
    "    ['1', '0', '1', '1', '1']\n",
    "]\n",
    "\n",
    "start = (0, 1)  # 출발 지점\n",
    "\n",
    "# 미로 탐색 실행\n",
    "result = DFS(start, maze)\n",
    "\n",
    "print(result)"
   ]
  }
 ],
 "metadata": {
  "kernelspec": {
   "display_name": "Python 3 (ipykernel)",
   "language": "python",
   "name": "python3"
  },
  "language_info": {
   "codemirror_mode": {
    "name": "ipython",
    "version": 3
   },
   "file_extension": ".py",
   "mimetype": "text/x-python",
   "name": "python",
   "nbconvert_exporter": "python",
   "pygments_lexer": "ipython3",
   "version": "3.12.4"
  }
 },
 "nbformat": 4,
 "nbformat_minor": 5
}
